{
 "cells": [
  {
   "cell_type": "code",
   "execution_count": 1,
   "metadata": {},
   "outputs": [
    {
     "name": "stdout",
     "output_type": "stream",
     "text": [
      "Account created for ali with account number 106763105\n",
      "Amount 500 deposited to account 106763105\n",
      "Amount 600 withdrawn from account 106763105\n",
      "Account balance for account 106763105: 100\n"
     ]
    }
   ],
   "source": [
    "class Bank:\n",
    "    def __init__(self):\n",
    "        self.customers = []\n",
    "\n",
    "    def create_account(self, name, account_number, initial_balance=0):\n",
    "        account = {\"name\": name, \"account_number\": account_number, \"balance\": initial_balance}\n",
    "        self.customers.append(account)\n",
    "        print(f\"Account created for {name} with account number {account_number}\")\n",
    "\n",
    "    def deposit(self, account_number, amount):\n",
    "        for customer in self.customers:\n",
    "            if customer[\"account_number\"] == account_number:\n",
    "                customer[\"balance\"] += amount\n",
    "                print(f\"Amount {amount} deposited to account {account_number}\")\n",
    "                return\n",
    "        print(\"Account number not found\")\n",
    "\n",
    "    def withdraw(self, account_number, amount):\n",
    "        for customer in self.customers:\n",
    "            if customer[\"account_number\"] == account_number:\n",
    "                if customer[\"balance\"] >= amount:\n",
    "                    customer[\"balance\"] -= amount\n",
    "                    print(f\"Amount {amount} withdrawn from account {account_number}\")\n",
    "                else:\n",
    "                    print(\"Insufficient balance\")\n",
    "                return\n",
    "        print(\"Account number not found\")\n",
    "\n",
    "    def display(self, account_number):\n",
    "        for customer in self.customers:\n",
    "            if customer[\"account_number\"] == account_number:\n",
    "                print(f\"Account balance for account {account_number}: {customer['balance']}\")\n",
    "                return\n",
    "        print(\"Account number not found\")\n",
    "\n",
    "\n",
    "\n",
    "\n",
    "bank = Bank()\n",
    "\n",
    "name = input(\"name of customer :\")\n",
    "account_number=int(input(\"what is account_number:\"))\n",
    "balance=int(input(\"how much is balance : \"))\n",
    "bank.create_account(name, account_number, balance)\n",
    "bank.deposit(account_number,500)\n",
    "bank.withdraw(account_number,600)\n",
    "bank.display(account_number)\n"
   ]
  }
 ],
 "metadata": {
  "kernelspec": {
   "display_name": "Python 3",
   "language": "python",
   "name": "python3"
  },
  "language_info": {
   "codemirror_mode": {
    "name": "ipython",
    "version": 3
   },
   "file_extension": ".py",
   "mimetype": "text/x-python",
   "name": "python",
   "nbconvert_exporter": "python",
   "pygments_lexer": "ipython3",
   "version": "3.12.0"
  }
 },
 "nbformat": 4,
 "nbformat_minor": 2
}
